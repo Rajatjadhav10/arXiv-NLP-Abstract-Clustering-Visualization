{
 "cells": [
  {
   "cell_type": "code",
   "execution_count": null,
   "metadata": {
    "colab": {
     "base_uri": "https://localhost:8080/"
    },
    "id": "L_U9SP-EsUNe",
    "outputId": "4dcc2937-2bd7-4081-d67d-b3fe201b2324"
   },
   "outputs": [],
   "source": [
    "!pip install datasets"
   ]
  },
  {
   "cell_type": "code",
   "execution_count": null,
   "metadata": {
    "colab": {
     "base_uri": "https://localhost:8080/",
     "height": 240,
     "referenced_widgets": [
      "59acfe15fc70479abb749548bf8a391a",
      "a584ae0da4c34840a03073d4d7bc0417",
      "900e86ab05d647d894bde1461be0c5f3",
      "af78870038d04074b56201f49322c2ec",
      "cc837ced227649a896b9b016aa38f6a5",
      "ba2745b21a6d4ce98a3e66602663cb57",
      "72fa0aea25c447898ce4a80fb75e2fdf",
      "c36b09aa45834a1496ab4427b1b798c5",
      "e6750b2958e24ee1b83521f899905121",
      "debe10d174524d9ab908c8d7830c8a11",
      "b07ff17b0f444cccaef0efa832bad9b0",
      "3e46ba2a60004e28bcc558fba4dd2330",
      "369bddb624b144a2828a456e0d76ad9e",
      "411a20f0901b4c47b35e624efe7f3e97",
      "5de24f56d5d84b8faafb68c16d5d4f06",
      "b8836aa419c94979ac9ca5dd57b8c47f",
      "2dfc61a8dab947d0b66c30a7f9cb961e",
      "497988a3443b42d48fbdcd164f79c8e4",
      "2f56c4b10d194e19a601791ebeb94139",
      "04e70e6e52814209a20192d5433cca57",
      "80611ca1e30944ba9748dfaa2e2a6772",
      "0230ca42eb4f4791957829773846b3e8",
      "d831648dfde640c389fdfea4d42f8de2",
      "dc4da3e7331b4f6fa4d1f9156dae5c1b",
      "16a01a6a0ef04ceea4e083bae1e4636d",
      "1b1e7d65d2c4470a9b8da51095e6b9b3",
      "e30f655ee23e489a96a6ab9634425978",
      "f8c8eb4deb73467fab55bb2669a3c94b",
      "ab04487688204ab2a21282ba428fb05b",
      "c58b93a4b48e47cabcb59ae30ae9920e",
      "e816cff309554dfca07013ac6e214bc1",
      "68407b4f6d0b4288919a56dd151015e4",
      "d8979645156347b699841ad27ef9b5e4"
     ]
    },
    "id": "vUCBjpcwsiPI",
    "outputId": "03d1ebd6-c188-4e1d-bd2f-fef68ff1a33a"
   },
   "outputs": [],
   "source": [
    "from datasets import load_dataset\n",
    "dataset = load_dataset(\"maartengr/arxiv_nlp\")[\"train\"]\n"
   ]
  },
  {
   "cell_type": "code",
   "execution_count": null,
   "metadata": {
    "id": "o5-eIWhlszAF"
   },
   "outputs": [],
   "source": [
    "abstracts = dataset[\"Abstracts\"]\n",
    "titles = dataset[\"Titles\"]"
   ]
  },
  {
   "cell_type": "code",
   "execution_count": null,
   "metadata": {
    "colab": {
     "base_uri": "https://localhost:8080/",
     "height": 407,
     "referenced_widgets": [
      "70327ceb33c044c7ba22d100e8024f7e",
      "431159771a2f4cec8fe2f1cff96164cc",
      "f3d576ccd6894fb4a00c92e679febf73",
      "f69463c804d448b297e25548c7c7235a",
      "5472582236ed40108c773646734432c0",
      "2c88cca6c95340d093576674a3273dcc",
      "9146132e908343e5853f563f3b076140",
      "f32aab9e4bd7477180427d72aac16552",
      "a37318a3c03040d99ad62f237a812d15",
      "c0c9e7f093074072bd20e740e31a2a2f",
      "d53e18d9c9b746f5a68035733e2cafed",
      "f95dbd307d2b48a4a5b9c91ade16b0e1",
      "5caa026077ed4797854e3d6224541689",
      "5962cfbe058a4ad1923a4eb5314390ad",
      "2bbdef361cb644adbd5405a4a4af7f59",
      "1f387983fba149f0b301260404e077e6",
      "5a78b4351ff74ddbb0754458ff62fda6",
      "aca85130672d45f08c90f6011e2d9fbb",
      "a329b979223a41849c3e8380b58b6acc",
      "6f05a1258cf14a088b00c8dd1d25fdf8",
      "a366a4bf17df401f98ab5e80b18782bf",
      "f01f1a0801944bd8ab4bfadef3986817",
      "3a81dea0a8e64f198a5d0183bee8d6d8",
      "8f262ad6b9d24531bd4dd8692aa01007",
      "96159b1cab274fa2aa5f92b9ef69f49a",
      "03eec2ed10da4b3cb23c82d68b3c2502",
      "d168ba0ff35b48faa7062959df9e618e",
      "e0193d7a686b4b0ebcd8562da0e0202d",
      "67c632d4c125404d99f38341deb68e6a",
      "39ada842790f415984f50a2abc799ecf",
      "e7de41f830ed49dd8abcdd72b72ed176",
      "885d2167d6bb41858e0b45f2456e3e9a",
      "b12f9898655646d9a5f7e501c28cf3a7",
      "05690c70bb0e401fad22b5f111865bcc",
      "9c84aeb9c6e840a3bee186834aee6f18",
      "579a667576ed4f74bd801778d3b42628",
      "5e1649ad7d02459e9e9e2741fea79f88",
      "617eabd7d7fb46f7b31b3dc9f3230782",
      "2295b78b4aca4aef92aedbb781290171",
      "8761838a77904461a442ae6cb0c7acf3",
      "121bcb6796be41988764b411e32829f5",
      "e4f90f6021594a079d543ad617c7fd11",
      "b0e53b82ef28441b86fe77716c7194e1",
      "3657d6bd3af24823ba5e55b4ec365065",
      "23e431097a594a4ab378b459aa9c6304",
      "b13a7a53639241ffb866377e2b81dd36",
      "fb7fea975c604895940e92537ed002c4",
      "3b43a0aa65a04b2285e700333127a198",
      "3d82aaf707fe493fa2f3ab1bde63310e",
      "ff5b6251af444bb9a2a04299d1a40b4f",
      "fa5e6288e79649de8722913307f70e9c",
      "f548396aeb364628ac3c2c582f1cdf16",
      "aef82a5a8a7a4e60adb6a633d10af889",
      "f0b6d58508354b819e63c71c37c09de8",
      "ff74b498789e46b0ba118e7f623f8308",
      "de2186d56fb94a5c8b4d2821c652cc8a",
      "cc2ab03960854ecdbc502ffd8034507b",
      "f9509ce652974cf2b5a729a17322c8aa",
      "758cf961c4194f939e7a4efa73b68806",
      "d3df0d97d2974d0b95b2df6a809bb5c0",
      "1c5460cf210b42e99829e43986e54dd0",
      "370b423900d54975abc12dea0ef67b2e",
      "ac1093076a5b4752b5f4d29df547bd38",
      "e61a749f2a3d4c18b0e1d07bbc4c6e5c",
      "b285aa7e1ed54ae4b3d3637294f0633f",
      "961cddf5db334c8eb942388e507b284a",
      "1f80208d5879411089c75522dfd3cffa",
      "e1d8618200b543a2a8e7cf2a348fbb57",
      "03e01b3db3924eeda7cff374c6845d6a",
      "71fdcbefd049454bb884f16a31229589",
      "9957f9a17b914eaf93e51d4467b3df70",
      "1a5a17615ddb451389d4dfd5cb8f258f",
      "1da30230de124117bdfef8541ef21525",
      "0f24680de4dd4778b72e146864de6a79",
      "262b38b95c724ba786edc1bdff776505",
      "690a666d6cfe4016b08db8bb837ee2fb",
      "1f290ea425dd4110aaed30117421da8f",
      "8098d52298e742c593c7c8b4323e20a0",
      "f5a7419df00946d3b6aaeee3a5ad0d15",
      "acfd492b43db47189dc07903a6c8d543",
      "d3fd84fe38974a5e922905caa9e0a7d1",
      "5d7f478ea46c435fb724138f00d62491",
      "834b8009da784071ac6e5068a3465a80",
      "c180c34c8a214d52a0425ec2fae42117",
      "67d50622a79c4047869aa9ac2c965ce0",
      "50651186c4734f9fb2c0750582474b52",
      "3c433164552b4efaaaed60a1a7844bff",
      "04eda6b63cbc4c2b937b3b64bdd655ed",
      "8d44719924a448758446191705213a12",
      "357d1beee27e49e99740fa27ee645e87",
      "ce0d7dbe3b654b4884847b4310bcbcfc",
      "00098e8e012e4297a742bc8aeea86e3e",
      "1e71e947c1444900854d67fc80e947c7",
      "fa02c5e101514dad8995cd224bcf502c",
      "07c1954693594bd796a7329aa13a4558",
      "59d1b2189bb14c4982a96adacacab84a",
      "78ba99e23a4f4ed0a867a9f774831485",
      "c91b650c9be64033b2594a686a4a6763",
      "8ffcce07910c47f5884b4670cfa7619b",
      "baebd71bf43747ff9070208975baf93a",
      "926ed79c86474b4da2cbd338a1cca188",
      "46d33d47bc13412eab89949d14c1ed18",
      "44adf6b37b88452cbdebfe60e4edc654",
      "25b12445793e4d6184006dc700114650",
      "9241dd255bbb4f3589f79a00dc9ae3bd",
      "a37cfb30864243a5ab14816084e82c2d",
      "0e48c522317d4bbd8bdf1e28aed50cc8",
      "55ec636fda0c4e94b6682c6975aad3fe",
      "058006121b73482dbb823c45dbd18670",
      "ed681c4b830e46229c5810951722611c",
      "a0e325e6ebd14a7bbb5e06fb729a8189",
      "59586fba1e4d40fc9502698ed0c427ea",
      "03c9d741c02b41c1b3b4a0770fc2f0a7",
      "aa744560788f4f9f9757d94c51593666",
      "65598d52e96d4044ae34f04db42286ce",
      "77f72a42f06440a49b7d8a85de8fbabe",
      "fde7e096ae084e31b2b96e6fcbed9969",
      "12846fff6b5849f6a5f030a93c50fce0",
      "a096cd4057984d7b8920b380bb4b0ac6",
      "7d6c3645f79c4f14887d1b48d8c812e5",
      "0bb24acc49904cf9bc7da5fed9c1e9c5"
     ]
    },
    "id": "L-1YGkfYs8DK",
    "outputId": "de20689e-04ca-492d-d4d5-47386efe3f8e"
   },
   "outputs": [],
   "source": [
    "from sentence_transformers import SentenceTransformer\n",
    "model = SentenceTransformer('thenlper/gte-small')\n",
    "embeddings = model.encode(abstracts)"
   ]
  },
  {
   "cell_type": "code",
   "execution_count": null,
   "metadata": {
    "colab": {
     "base_uri": "https://localhost:8080/"
    },
    "id": "zLIo4jmouGX3",
    "outputId": "36e7ed57-6c0c-48c0-e6b8-7b47c4c55589"
   },
   "outputs": [],
   "source": [
    "from umap import UMAP\n",
    "\n",
    "umap_model = UMAP(n_components=5, min_dist = 0.0, metric ='cosine', random_state= 42)\n",
    "reduced_embeddigs= umap_model.fit_transform(embeddings)"
   ]
  },
  {
   "cell_type": "code",
   "execution_count": null,
   "metadata": {
    "colab": {
     "base_uri": "https://localhost:8080/"
    },
    "id": "-qBAdOlcu5Rc",
    "outputId": "2351a2d0-40e9-46ba-b79d-8e6b74ff95fc"
   },
   "outputs": [],
   "source": [
    "from hdbscan import HDBSCAN\n",
    "\n",
    "hdsbscan_model = HDBSCAN(min_cluster_size = 50, metric = \"euclidean\", cluster_selection_method= \"eom\").fit(reduced_embeddigs)\n",
    "clusters= hdsbscan_model.labels_"
   ]
  },
  {
   "cell_type": "code",
   "execution_count": null,
   "metadata": {
    "colab": {
     "base_uri": "https://localhost:8080/"
    },
    "id": "WpNTbmPuysBa",
    "outputId": "cf8c64d8-7bba-46aa-9eeb-ff4ec481884e"
   },
   "outputs": [],
   "source": [
    "import numpy as np\n",
    "cluster = 0\n",
    "for index in np.where(clusters == cluster)[0][:3]:\n",
    "  print(abstracts[index][:200]+ \"...\\n\")"
   ]
  },
  {
   "cell_type": "code",
   "execution_count": null,
   "metadata": {
    "colab": {
     "base_uri": "https://localhost:8080/"
    },
    "id": "xC-o7vbQ1-Gh",
    "outputId": "1b7dc29a-baea-415b-fdf0-ef8718a5e180"
   },
   "outputs": [],
   "source": [
    "from umap import UMAP\n",
    "\n",
    "reduced_embeddings2 = UMAP( n_components= 2, min_dist =0.0 , metric =\"cosine\", random_state =42).fit_transform(embeddings)"
   ]
  },
  {
   "cell_type": "code",
   "execution_count": null,
   "metadata": {
    "id": "9S9R6u562i22"
   },
   "outputs": [],
   "source": [
    "import pandas as pd\n",
    "df = pd.DataFrame(reduced_embeddings2, columns = [\"x\", \"y\"])\n",
    "\n",
    "df[\"titles\"]= titles\n",
    "df[\"cluster\"]= [str(c) for c in clusters]\n",
    "to_plot = df.loc[df.cluster != \"1\", :]\n",
    "outliers = df.loc[df.cluster == \"-1\",:]"
   ]
  },
  {
   "cell_type": "code",
   "execution_count": null,
   "metadata": {
    "colab": {
     "base_uri": "https://localhost:8080/",
     "height": 477
    },
    "id": "ZW3XqOGT324I",
    "outputId": "4b19f877-8b72-4227-9a82-09dbe0c8b4c2"
   },
   "outputs": [],
   "source": [
    "import matplotlib.pyplot as plt\n",
    "\n",
    "plt.scatter(outliers.x, outliers.y, alpha= 0.05, s=2, c=\"grey\")\n",
    "plt.scatter(to_plot.x, to_plot.y, c = to_plot.cluster.astype(int), alpha =0.6, s=2, cmap =\"tab20b\")\n",
    "\n",
    "plt.axis(\"off\")"
   ]
  }
 ],
 "metadata": {
  "accelerator": "GPU",
  "colab": {
   "gpuType": "T4",
   "provenance": []
  },
  "kernelspec": {
   "display_name": "Python 3",
   "name": "python3"
  },
  "language_info": {
   "name": "python"
  }
 },
 "nbformat": 4,
 "nbformat_minor": 0
}
